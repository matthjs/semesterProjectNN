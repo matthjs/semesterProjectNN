{
 "cells": [
  {
   "cell_type": "code",
   "execution_count": null,
   "metadata": {},
   "outputs": [],
   "source": [
    "import jax\n",
    "import jax.numpy as np\n",
    "import pandas as pd\n",
    "import itertools"
   ]
  },
  {
   "cell_type": "code",
   "execution_count": null,
   "metadata": {},
   "outputs": [],
   "source": [
    "df = pd.read_csv('midi/drumDemo.csv', skipfooter=2, skiprows=8, engine='python', names=[\"1\", \"2\", \"3\", \"4\", \"5\", \"6\"])\n",
    "print(df.head())\n",
    "\n",
    "track = (df[\"1\"].values)\n",
    "time = (df[\"2\"].values)\n",
    "note_is_played = (df[\"3\"].values)\n",
    "channel = df[\"4\"].values\n",
    "notes = df[\"5\"].values\n",
    "velocity = df[\"6\"].values\n",
    "\n",
    "\n",
    "\"\"\"\n",
    "print(track)\n",
    "print(time)\n",
    "print(note_is_played)\n",
    "print(channel)\n",
    "print(notes)\n",
    "print(velocity)\n",
    "\"\"\"\n",
    "\n",
    "h = {}\n",
    "h[36] = 0\n",
    "h[38] = 1\n",
    "h[41] = 2\n",
    "h[42] = 3\n",
    "h[43] = 4\n",
    "h[45] = 5\n",
    "h[82] = 6\n",
    "print(h)\n",
    "\n",
    "u = list(itertools.repeat(np.zeros(7), max(time)+1))\n",
    "\n",
    "# this is not working correctly yet\n",
    "for i in range(len(notes)):\n",
    "    v = [0]*7\n",
    "    v[h[notes[i]]] = velocity[i] / 127\n",
    "    if (np.any(u[time[i]])):\n",
    "        u[time[i]] = u[time[i]] + np.array(v)\n",
    "    else:\n",
    "        u[time[i]] = np.array(v)\n",
    "\n",
    "print(u[236])"
   ]
  }
 ],
 "metadata": {
  "interpreter": {
   "hash": "e375b77a672b76be28c1e80386a6d4db61c866c142c6acff7bc94a65b4573147"
  },
  "kernelspec": {
   "display_name": "Python 3.9.12 ('base')",
   "language": "python",
   "name": "python3"
  },
  "language_info": {
   "codemirror_mode": {
    "name": "ipython",
    "version": 3
   },
   "file_extension": ".py",
   "mimetype": "text/x-python",
   "name": "python",
   "nbconvert_exporter": "python",
   "pygments_lexer": "ipython3",
   "version": "3.9.12"
  },
  "orig_nbformat": 4
 },
 "nbformat": 4,
 "nbformat_minor": 2
}

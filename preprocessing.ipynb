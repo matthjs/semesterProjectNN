{
 "cells": [
  {
   "cell_type": "code",
   "execution_count": 28,
   "metadata": {},
   "outputs": [],
   "source": [
    "import jax\n",
    "import jax.numpy as np\n",
    "import pandas as pd"
   ]
  },
  {
   "cell_type": "code",
   "execution_count": 189,
   "metadata": {},
   "outputs": [
    {
     "name": "stdout",
     "output_type": "stream",
     "text": [
      "                1  2   3   4\n",
      "2 0     Note_on_c  9  42  96\n",
      "  0     Note_on_c  9  36  84\n",
      "  29    Note_on_c  9  36   0\n",
      "  29    Note_on_c  9  42   0\n",
      "  236   Note_on_c  9  38  61\n",
      "{36: 1, 38: 2, 41: 3, 42: 4, 43: 5, 45: 6, 82: 7}\n",
      "<class 'jaxlib.xla_extension.DeviceArray'>\n"
     ]
    }
   ],
   "source": [
    "df = pd.read_csv('midi/drumDemo.csv', skipfooter=2, skiprows=7, engine='python')\n",
    "df.columns = [\"1\", \"2\", \"3\", \"4\"]\n",
    "print(df.head())\n",
    "\n",
    "notes = df[\"3\"].values\n",
    "velocity = df[\"4\"].values\n",
    "\n",
    "h = {}\n",
    "h[36] = 1\n",
    "h[38] = 2\n",
    "h[41] = 3\n",
    "h[42] = 4\n",
    "h[43] = 5\n",
    "h[45] = 6\n",
    "h[82] = 7\n",
    "print(h)\n",
    "\n",
    "u = []\n",
    "\n",
    "# this is not working correctly yet\n",
    "for i in range(len(notes)):\n",
    "    v = [0]*8\n",
    "    v[h[notes[i]]] = velocity[i] / 127 \n",
    "    u.append(v)\n",
    "\n",
    "print(type(np.array([u])))"
   ]
  }
 ],
 "metadata": {
  "interpreter": {
   "hash": "e375b77a672b76be28c1e80386a6d4db61c866c142c6acff7bc94a65b4573147"
  },
  "kernelspec": {
   "display_name": "Python 3.9.12 ('base')",
   "language": "python",
   "name": "python3"
  },
  "language_info": {
   "codemirror_mode": {
    "name": "ipython",
    "version": 3
   },
   "file_extension": ".py",
   "mimetype": "text/x-python",
   "name": "python",
   "nbconvert_exporter": "python",
   "pygments_lexer": "ipython3",
   "version": "3.9.12"
  },
  "orig_nbformat": 4
 },
 "nbformat": 4,
 "nbformat_minor": 2
}

{
 "cells": [
  {
   "cell_type": "code",
   "execution_count": 115,
   "metadata": {},
   "outputs": [],
   "source": [
    "import jax\n",
    "import jax.numpy as np\n",
    "import pandas as pd\n",
    "import itertools"
   ]
  },
  {
   "cell_type": "markdown",
   "metadata": {},
   "source": [
    "Forward preprocessing: (from other algo) -> (csv)\n",
    "$$\n",
    "\\mathcal{D}: \\text{csv} \\rightarrow \\mathbb{R}^7\n",
    "$$"
   ]
  },
  {
   "cell_type": "code",
   "execution_count": 116,
   "metadata": {},
   "outputs": [
    {
     "name": "stdout",
     "output_type": "stream",
     "text": [
      "   track  time note_is_played  channel  notes  velocity\n",
      "0      2     0      Note_on_c        9     42        96\n",
      "1      2     0      Note_on_c        9     36        84\n",
      "2      2    29      Note_on_c        9     36         0\n",
      "3      2    29      Note_on_c        9     42         0\n",
      "4      2   236      Note_on_c        9     38        61\n",
      "\n",
      "[0.         0.48031497 0.         0.5590551  0.         0.\n",
      " 0.        ]\n"
     ]
    }
   ],
   "source": [
    "columnNames = [\"track\", \"time\", \"note_is_played\"\n",
    "                            , \"channel\", \"notes\", \"velocity\"]\n",
    "\n",
    "df = pd.read_csv('midi/drumDemo.csv', skipfooter=2, skiprows=8, engine='python', names= columnNames)\n",
    "print(df.head())\n",
    "\n",
    "track = (df[\"track\"].values)\n",
    "time = (df[\"time\"].values)\n",
    "note_is_played = (df[\"note_is_played\"].values)\n",
    "channel = df[\"channel\"].values\n",
    "notes = df[\"notes\"].values\n",
    "velocity = df[\"velocity\"].values\n",
    "\n",
    "\"\"\"\n",
    "print(track)\n",
    "print(time)\n",
    "print(note_is_played)\n",
    "print(channel)\n",
    "print(notes)\n",
    "print(velocity)\n",
    "\"\"\"\n",
    "\n",
    "h = {}\n",
    "h[36] = 0\n",
    "h[38] = 1\n",
    "h[41] = 2\n",
    "h[42] = 3\n",
    "h[43] = 4\n",
    "h[45] = 5\n",
    "h[82] = 6\n",
    "\n",
    "h_inv = {}\n",
    "h_inv[0] = 36\n",
    "h_inv[1] = 38\n",
    "h_inv[2] = 41\n",
    "h_inv[3] = 42\n",
    "h_inv[4] = 43\n",
    "h_inv[5] = 45\n",
    "h_inv[6] = 82\n",
    "\n",
    "print()\n",
    "\n",
    "u = list(itertools.repeat(np.zeros(7), max(time)+1))\n",
    "\n",
    "for i in range(len(notes)):\n",
    "    v = [0]*7\n",
    "    v[h[notes[i]]] = velocity[i] / 127\n",
    "    if (np.any(u[time[i]])):\n",
    "        u[time[i]] = u[time[i]] + np.array(v)\n",
    "    else:\n",
    "        u[time[i]] = np.array(v)\n",
    "\n",
    "print(u[236])"
   ]
  },
  {
   "cell_type": "markdown",
   "metadata": {},
   "source": [
    "Backward preprocessing\n",
    "$$\n",
    "\\mathcal{D}^{-1} : \\mathbb{R}^7 \\rightarrow \\text{csv}\n",
    "$$"
   ]
  },
  {
   "cell_type": "code",
   "execution_count": 117,
   "metadata": {},
   "outputs": [],
   "source": [
    "y = u\n",
    "dfo = pd.DataFrame([], columns=columnNames)\n",
    "\n",
    "\n",
    "#dfo[\"track\"] = track\n",
    "#dfo[\"note_is_played\"] = note_is_played\n",
    "#dfo[\"channel\"] = channel\n",
    "time_new = []\n",
    "notes_new = []\n",
    "velocity_new = []\n",
    "\n",
    "\n",
    "for n in range(len(y)):\n",
    "    if (np.any(y[n])):\n",
    "        yn = y[n]\n",
    "        for i in range(len(yn)):\n",
    "            v = (int)(yn[i] * 127)\n",
    "            if (v > 0):\n",
    "                time_new.append(n)\n",
    "                velocity_new.append(v)\n",
    "                notes_new.append(h_inv[i])\n",
    "\n",
    "track_new = [track[0]]*len(time_new)\n",
    "note_is_played_new = [note_is_played[0]]*len(time_new)\n",
    "channel_new = [channel[0]]*len(time_new)\n",
    "\n",
    "dfo[\"track\"] = track_new\n",
    "dfo[\"note_is_played\"] = note_is_played_new\n",
    "dfo[\"channel\"] = channel_new\n",
    "dfo[\"time\"] = time_new\n",
    "dfo[\"velocity\"] = velocity_new\n",
    "dfo[\"notes\"] = notes_new\n",
    "\n",
    "dfo.to_csv(\"new.csv\", index = False, header = False)\n",
    "\n"
   ]
  }
 ],
 "metadata": {
  "interpreter": {
   "hash": "e375b77a672b76be28c1e80386a6d4db61c866c142c6acff7bc94a65b4573147"
  },
  "kernelspec": {
   "display_name": "Python 3.9.12 ('base')",
   "language": "python",
   "name": "python3"
  },
  "language_info": {
   "codemirror_mode": {
    "name": "ipython",
    "version": 3
   },
   "file_extension": ".py",
   "mimetype": "text/x-python",
   "name": "python",
   "nbconvert_exporter": "python",
   "pygments_lexer": "ipython3",
   "version": "3.9.12"
  },
  "orig_nbformat": 4
 },
 "nbformat": 4,
 "nbformat_minor": 2
}

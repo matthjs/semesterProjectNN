{
 "cells": [
  {
   "cell_type": "code",
   "execution_count": 5,
   "metadata": {},
   "outputs": [],
   "source": [
    "import jax\n",
    "import jax.numpy as np\n",
    "import pandas as pd\n",
    "import itertools"
   ]
  },
  {
   "cell_type": "markdown",
   "metadata": {},
   "source": [
    "Forward preprocessing: (from other algo) -> (csv)\n",
    "$$\n",
    "\\mathcal{D}: \\text{csv} \\rightarrow \\mathbb{R}^7\n",
    "$$"
   ]
  },
  {
   "cell_type": "code",
   "execution_count": 6,
   "metadata": {},
   "outputs": [
    {
     "ename": "ParserError",
     "evalue": "Expected 6 fields in line 4, saw 7",
     "output_type": "error",
     "traceback": [
      "\u001b[1;31m---------------------------------------------------------------------------\u001b[0m",
      "\u001b[1;31mParserError\u001b[0m                               Traceback (most recent call last)",
      "\u001b[1;32mc:\\Users\\Matth\\OneDrive\\Documenten\\NN\\semester-project\\preprocessing.ipynb Cell 3'\u001b[0m in \u001b[0;36m<cell line: 4>\u001b[1;34m()\u001b[0m\n\u001b[0;32m      <a href='vscode-notebook-cell:/c%3A/Users/Matth/OneDrive/Documenten/NN/semester-project/preprocessing.ipynb#ch0000002?line=0'>1</a>\u001b[0m columnNames \u001b[39m=\u001b[39m [\u001b[39m\"\u001b[39m\u001b[39mtrack\u001b[39m\u001b[39m\"\u001b[39m, \u001b[39m\"\u001b[39m\u001b[39mtime\u001b[39m\u001b[39m\"\u001b[39m, \u001b[39m\"\u001b[39m\u001b[39mnote_is_played\u001b[39m\u001b[39m\"\u001b[39m\n\u001b[0;32m      <a href='vscode-notebook-cell:/c%3A/Users/Matth/OneDrive/Documenten/NN/semester-project/preprocessing.ipynb#ch0000002?line=1'>2</a>\u001b[0m                             , \u001b[39m\"\u001b[39m\u001b[39mchannel\u001b[39m\u001b[39m\"\u001b[39m, \u001b[39m\"\u001b[39m\u001b[39mnotes\u001b[39m\u001b[39m\"\u001b[39m, \u001b[39m\"\u001b[39m\u001b[39mvelocity\u001b[39m\u001b[39m\"\u001b[39m]\n\u001b[1;32m----> <a href='vscode-notebook-cell:/c%3A/Users/Matth/OneDrive/Documenten/NN/semester-project/preprocessing.ipynb#ch0000002?line=3'>4</a>\u001b[0m df0 \u001b[39m=\u001b[39m pd\u001b[39m.\u001b[39;49mread_csv(\u001b[39m'\u001b[39;49m\u001b[39mmidi/drumDemo.csv\u001b[39;49m\u001b[39m'\u001b[39;49m, engine\u001b[39m=\u001b[39;49m\u001b[39m'\u001b[39;49m\u001b[39mpython\u001b[39;49m\u001b[39m'\u001b[39;49m, names\u001b[39m=\u001b[39;49m columnNames)\n\u001b[0;32m      <a href='vscode-notebook-cell:/c%3A/Users/Matth/OneDrive/Documenten/NN/semester-project/preprocessing.ipynb#ch0000002?line=4'>5</a>\u001b[0m df \u001b[39m=\u001b[39m pd\u001b[39m.\u001b[39mread_csv(\u001b[39m'\u001b[39m\u001b[39mmidi/drumDemo.csv\u001b[39m\u001b[39m'\u001b[39m, skipfooter\u001b[39m=\u001b[39m\u001b[39m2\u001b[39m, skiprows\u001b[39m=\u001b[39m\u001b[39m8\u001b[39m, engine\u001b[39m=\u001b[39m\u001b[39m'\u001b[39m\u001b[39mpython\u001b[39m\u001b[39m'\u001b[39m, names\u001b[39m=\u001b[39m columnNames)\n\u001b[0;32m      <a href='vscode-notebook-cell:/c%3A/Users/Matth/OneDrive/Documenten/NN/semester-project/preprocessing.ipynb#ch0000002?line=5'>6</a>\u001b[0m \u001b[39mprint\u001b[39m(df\u001b[39m.\u001b[39mhead())\n",
      "File \u001b[1;32mc:\\Users\\Matth\\anaconda3\\envs\\tf\\lib\\site-packages\\pandas\\util\\_decorators.py:311\u001b[0m, in \u001b[0;36mdeprecate_nonkeyword_arguments.<locals>.decorate.<locals>.wrapper\u001b[1;34m(*args, **kwargs)\u001b[0m\n\u001b[0;32m    <a href='file:///c%3A/Users/Matth/anaconda3/envs/tf/lib/site-packages/pandas/util/_decorators.py?line=304'>305</a>\u001b[0m \u001b[39mif\u001b[39;00m \u001b[39mlen\u001b[39m(args) \u001b[39m>\u001b[39m num_allow_args:\n\u001b[0;32m    <a href='file:///c%3A/Users/Matth/anaconda3/envs/tf/lib/site-packages/pandas/util/_decorators.py?line=305'>306</a>\u001b[0m     warnings\u001b[39m.\u001b[39mwarn(\n\u001b[0;32m    <a href='file:///c%3A/Users/Matth/anaconda3/envs/tf/lib/site-packages/pandas/util/_decorators.py?line=306'>307</a>\u001b[0m         msg\u001b[39m.\u001b[39mformat(arguments\u001b[39m=\u001b[39marguments),\n\u001b[0;32m    <a href='file:///c%3A/Users/Matth/anaconda3/envs/tf/lib/site-packages/pandas/util/_decorators.py?line=307'>308</a>\u001b[0m         \u001b[39mFutureWarning\u001b[39;00m,\n\u001b[0;32m    <a href='file:///c%3A/Users/Matth/anaconda3/envs/tf/lib/site-packages/pandas/util/_decorators.py?line=308'>309</a>\u001b[0m         stacklevel\u001b[39m=\u001b[39mstacklevel,\n\u001b[0;32m    <a href='file:///c%3A/Users/Matth/anaconda3/envs/tf/lib/site-packages/pandas/util/_decorators.py?line=309'>310</a>\u001b[0m     )\n\u001b[1;32m--> <a href='file:///c%3A/Users/Matth/anaconda3/envs/tf/lib/site-packages/pandas/util/_decorators.py?line=310'>311</a>\u001b[0m \u001b[39mreturn\u001b[39;00m func(\u001b[39m*\u001b[39margs, \u001b[39m*\u001b[39m\u001b[39m*\u001b[39mkwargs)\n",
      "File \u001b[1;32mc:\\Users\\Matth\\anaconda3\\envs\\tf\\lib\\site-packages\\pandas\\io\\parsers\\readers.py:680\u001b[0m, in \u001b[0;36mread_csv\u001b[1;34m(filepath_or_buffer, sep, delimiter, header, names, index_col, usecols, squeeze, prefix, mangle_dupe_cols, dtype, engine, converters, true_values, false_values, skipinitialspace, skiprows, skipfooter, nrows, na_values, keep_default_na, na_filter, verbose, skip_blank_lines, parse_dates, infer_datetime_format, keep_date_col, date_parser, dayfirst, cache_dates, iterator, chunksize, compression, thousands, decimal, lineterminator, quotechar, quoting, doublequote, escapechar, comment, encoding, encoding_errors, dialect, error_bad_lines, warn_bad_lines, on_bad_lines, delim_whitespace, low_memory, memory_map, float_precision, storage_options)\u001b[0m\n\u001b[0;32m    <a href='file:///c%3A/Users/Matth/anaconda3/envs/tf/lib/site-packages/pandas/io/parsers/readers.py?line=664'>665</a>\u001b[0m kwds_defaults \u001b[39m=\u001b[39m _refine_defaults_read(\n\u001b[0;32m    <a href='file:///c%3A/Users/Matth/anaconda3/envs/tf/lib/site-packages/pandas/io/parsers/readers.py?line=665'>666</a>\u001b[0m     dialect,\n\u001b[0;32m    <a href='file:///c%3A/Users/Matth/anaconda3/envs/tf/lib/site-packages/pandas/io/parsers/readers.py?line=666'>667</a>\u001b[0m     delimiter,\n\u001b[1;32m   (...)\u001b[0m\n\u001b[0;32m    <a href='file:///c%3A/Users/Matth/anaconda3/envs/tf/lib/site-packages/pandas/io/parsers/readers.py?line=675'>676</a>\u001b[0m     defaults\u001b[39m=\u001b[39m{\u001b[39m\"\u001b[39m\u001b[39mdelimiter\u001b[39m\u001b[39m\"\u001b[39m: \u001b[39m\"\u001b[39m\u001b[39m,\u001b[39m\u001b[39m\"\u001b[39m},\n\u001b[0;32m    <a href='file:///c%3A/Users/Matth/anaconda3/envs/tf/lib/site-packages/pandas/io/parsers/readers.py?line=676'>677</a>\u001b[0m )\n\u001b[0;32m    <a href='file:///c%3A/Users/Matth/anaconda3/envs/tf/lib/site-packages/pandas/io/parsers/readers.py?line=677'>678</a>\u001b[0m kwds\u001b[39m.\u001b[39mupdate(kwds_defaults)\n\u001b[1;32m--> <a href='file:///c%3A/Users/Matth/anaconda3/envs/tf/lib/site-packages/pandas/io/parsers/readers.py?line=679'>680</a>\u001b[0m \u001b[39mreturn\u001b[39;00m _read(filepath_or_buffer, kwds)\n",
      "File \u001b[1;32mc:\\Users\\Matth\\anaconda3\\envs\\tf\\lib\\site-packages\\pandas\\io\\parsers\\readers.py:581\u001b[0m, in \u001b[0;36m_read\u001b[1;34m(filepath_or_buffer, kwds)\u001b[0m\n\u001b[0;32m    <a href='file:///c%3A/Users/Matth/anaconda3/envs/tf/lib/site-packages/pandas/io/parsers/readers.py?line=577'>578</a>\u001b[0m     \u001b[39mreturn\u001b[39;00m parser\n\u001b[0;32m    <a href='file:///c%3A/Users/Matth/anaconda3/envs/tf/lib/site-packages/pandas/io/parsers/readers.py?line=579'>580</a>\u001b[0m \u001b[39mwith\u001b[39;00m parser:\n\u001b[1;32m--> <a href='file:///c%3A/Users/Matth/anaconda3/envs/tf/lib/site-packages/pandas/io/parsers/readers.py?line=580'>581</a>\u001b[0m     \u001b[39mreturn\u001b[39;00m parser\u001b[39m.\u001b[39;49mread(nrows)\n",
      "File \u001b[1;32mc:\\Users\\Matth\\anaconda3\\envs\\tf\\lib\\site-packages\\pandas\\io\\parsers\\readers.py:1254\u001b[0m, in \u001b[0;36mTextFileReader.read\u001b[1;34m(self, nrows)\u001b[0m\n\u001b[0;32m   <a href='file:///c%3A/Users/Matth/anaconda3/envs/tf/lib/site-packages/pandas/io/parsers/readers.py?line=1251'>1252</a>\u001b[0m nrows \u001b[39m=\u001b[39m validate_integer(\u001b[39m\"\u001b[39m\u001b[39mnrows\u001b[39m\u001b[39m\"\u001b[39m, nrows)\n\u001b[0;32m   <a href='file:///c%3A/Users/Matth/anaconda3/envs/tf/lib/site-packages/pandas/io/parsers/readers.py?line=1252'>1253</a>\u001b[0m \u001b[39mtry\u001b[39;00m:\n\u001b[1;32m-> <a href='file:///c%3A/Users/Matth/anaconda3/envs/tf/lib/site-packages/pandas/io/parsers/readers.py?line=1253'>1254</a>\u001b[0m     index, columns, col_dict \u001b[39m=\u001b[39m \u001b[39mself\u001b[39;49m\u001b[39m.\u001b[39;49m_engine\u001b[39m.\u001b[39;49mread(nrows)\n\u001b[0;32m   <a href='file:///c%3A/Users/Matth/anaconda3/envs/tf/lib/site-packages/pandas/io/parsers/readers.py?line=1254'>1255</a>\u001b[0m \u001b[39mexcept\u001b[39;00m \u001b[39mException\u001b[39;00m:\n\u001b[0;32m   <a href='file:///c%3A/Users/Matth/anaconda3/envs/tf/lib/site-packages/pandas/io/parsers/readers.py?line=1255'>1256</a>\u001b[0m     \u001b[39mself\u001b[39m\u001b[39m.\u001b[39mclose()\n",
      "File \u001b[1;32mc:\\Users\\Matth\\anaconda3\\envs\\tf\\lib\\site-packages\\pandas\\io\\parsers\\python_parser.py:270\u001b[0m, in \u001b[0;36mPythonParser.read\u001b[1;34m(self, rows)\u001b[0m\n\u001b[0;32m    <a href='file:///c%3A/Users/Matth/anaconda3/envs/tf/lib/site-packages/pandas/io/parsers/python_parser.py?line=266'>267</a>\u001b[0m     indexnamerow \u001b[39m=\u001b[39m content[\u001b[39m0\u001b[39m]\n\u001b[0;32m    <a href='file:///c%3A/Users/Matth/anaconda3/envs/tf/lib/site-packages/pandas/io/parsers/python_parser.py?line=267'>268</a>\u001b[0m     content \u001b[39m=\u001b[39m content[\u001b[39m1\u001b[39m:]\n\u001b[1;32m--> <a href='file:///c%3A/Users/Matth/anaconda3/envs/tf/lib/site-packages/pandas/io/parsers/python_parser.py?line=269'>270</a>\u001b[0m alldata \u001b[39m=\u001b[39m \u001b[39mself\u001b[39;49m\u001b[39m.\u001b[39;49m_rows_to_cols(content)\n\u001b[0;32m    <a href='file:///c%3A/Users/Matth/anaconda3/envs/tf/lib/site-packages/pandas/io/parsers/python_parser.py?line=270'>271</a>\u001b[0m data, columns \u001b[39m=\u001b[39m \u001b[39mself\u001b[39m\u001b[39m.\u001b[39m_exclude_implicit_index(alldata)\n\u001b[0;32m    <a href='file:///c%3A/Users/Matth/anaconda3/envs/tf/lib/site-packages/pandas/io/parsers/python_parser.py?line=272'>273</a>\u001b[0m conv_data \u001b[39m=\u001b[39m \u001b[39mself\u001b[39m\u001b[39m.\u001b[39m_convert_data(data)\n",
      "File \u001b[1;32mc:\\Users\\Matth\\anaconda3\\envs\\tf\\lib\\site-packages\\pandas\\io\\parsers\\python_parser.py:1013\u001b[0m, in \u001b[0;36mPythonParser._rows_to_cols\u001b[1;34m(self, content)\u001b[0m\n\u001b[0;32m   <a href='file:///c%3A/Users/Matth/anaconda3/envs/tf/lib/site-packages/pandas/io/parsers/python_parser.py?line=1006'>1007</a>\u001b[0m             reason \u001b[39m=\u001b[39m (\n\u001b[0;32m   <a href='file:///c%3A/Users/Matth/anaconda3/envs/tf/lib/site-packages/pandas/io/parsers/python_parser.py?line=1007'>1008</a>\u001b[0m                 \u001b[39m\"\u001b[39m\u001b[39mError could possibly be due to quotes being \u001b[39m\u001b[39m\"\u001b[39m\n\u001b[0;32m   <a href='file:///c%3A/Users/Matth/anaconda3/envs/tf/lib/site-packages/pandas/io/parsers/python_parser.py?line=1008'>1009</a>\u001b[0m                 \u001b[39m\"\u001b[39m\u001b[39mignored when a multi-char delimiter is used.\u001b[39m\u001b[39m\"\u001b[39m\n\u001b[0;32m   <a href='file:///c%3A/Users/Matth/anaconda3/envs/tf/lib/site-packages/pandas/io/parsers/python_parser.py?line=1009'>1010</a>\u001b[0m             )\n\u001b[0;32m   <a href='file:///c%3A/Users/Matth/anaconda3/envs/tf/lib/site-packages/pandas/io/parsers/python_parser.py?line=1010'>1011</a>\u001b[0m             msg \u001b[39m+\u001b[39m\u001b[39m=\u001b[39m \u001b[39m\"\u001b[39m\u001b[39m. \u001b[39m\u001b[39m\"\u001b[39m \u001b[39m+\u001b[39m reason\n\u001b[1;32m-> <a href='file:///c%3A/Users/Matth/anaconda3/envs/tf/lib/site-packages/pandas/io/parsers/python_parser.py?line=1012'>1013</a>\u001b[0m         \u001b[39mself\u001b[39;49m\u001b[39m.\u001b[39;49m_alert_malformed(msg, row_num \u001b[39m+\u001b[39;49m \u001b[39m1\u001b[39;49m)\n\u001b[0;32m   <a href='file:///c%3A/Users/Matth/anaconda3/envs/tf/lib/site-packages/pandas/io/parsers/python_parser.py?line=1014'>1015</a>\u001b[0m \u001b[39m# see gh-13320\u001b[39;00m\n\u001b[0;32m   <a href='file:///c%3A/Users/Matth/anaconda3/envs/tf/lib/site-packages/pandas/io/parsers/python_parser.py?line=1015'>1016</a>\u001b[0m zipped_content \u001b[39m=\u001b[39m \u001b[39mlist\u001b[39m(lib\u001b[39m.\u001b[39mto_object_array(content, min_width\u001b[39m=\u001b[39mcol_len)\u001b[39m.\u001b[39mT)\n",
      "File \u001b[1;32mc:\\Users\\Matth\\anaconda3\\envs\\tf\\lib\\site-packages\\pandas\\io\\parsers\\python_parser.py:739\u001b[0m, in \u001b[0;36mPythonParser._alert_malformed\u001b[1;34m(self, msg, row_num)\u001b[0m\n\u001b[0;32m    <a href='file:///c%3A/Users/Matth/anaconda3/envs/tf/lib/site-packages/pandas/io/parsers/python_parser.py?line=721'>722</a>\u001b[0m \u001b[39m\"\"\"\u001b[39;00m\n\u001b[0;32m    <a href='file:///c%3A/Users/Matth/anaconda3/envs/tf/lib/site-packages/pandas/io/parsers/python_parser.py?line=722'>723</a>\u001b[0m \u001b[39mAlert a user about a malformed row, depending on value of\u001b[39;00m\n\u001b[0;32m    <a href='file:///c%3A/Users/Matth/anaconda3/envs/tf/lib/site-packages/pandas/io/parsers/python_parser.py?line=723'>724</a>\u001b[0m \u001b[39m`self.on_bad_lines` enum.\u001b[39;00m\n\u001b[1;32m   (...)\u001b[0m\n\u001b[0;32m    <a href='file:///c%3A/Users/Matth/anaconda3/envs/tf/lib/site-packages/pandas/io/parsers/python_parser.py?line=735'>736</a>\u001b[0m \u001b[39m    even though we 0-index internally.\u001b[39;00m\n\u001b[0;32m    <a href='file:///c%3A/Users/Matth/anaconda3/envs/tf/lib/site-packages/pandas/io/parsers/python_parser.py?line=736'>737</a>\u001b[0m \u001b[39m\"\"\"\u001b[39;00m\n\u001b[0;32m    <a href='file:///c%3A/Users/Matth/anaconda3/envs/tf/lib/site-packages/pandas/io/parsers/python_parser.py?line=737'>738</a>\u001b[0m \u001b[39mif\u001b[39;00m \u001b[39mself\u001b[39m\u001b[39m.\u001b[39mon_bad_lines \u001b[39m==\u001b[39m \u001b[39mself\u001b[39m\u001b[39m.\u001b[39mBadLineHandleMethod\u001b[39m.\u001b[39mERROR:\n\u001b[1;32m--> <a href='file:///c%3A/Users/Matth/anaconda3/envs/tf/lib/site-packages/pandas/io/parsers/python_parser.py?line=738'>739</a>\u001b[0m     \u001b[39mraise\u001b[39;00m ParserError(msg)\n\u001b[0;32m    <a href='file:///c%3A/Users/Matth/anaconda3/envs/tf/lib/site-packages/pandas/io/parsers/python_parser.py?line=739'>740</a>\u001b[0m \u001b[39melif\u001b[39;00m \u001b[39mself\u001b[39m\u001b[39m.\u001b[39mon_bad_lines \u001b[39m==\u001b[39m \u001b[39mself\u001b[39m\u001b[39m.\u001b[39mBadLineHandleMethod\u001b[39m.\u001b[39mWARN:\n\u001b[0;32m    <a href='file:///c%3A/Users/Matth/anaconda3/envs/tf/lib/site-packages/pandas/io/parsers/python_parser.py?line=740'>741</a>\u001b[0m     base \u001b[39m=\u001b[39m \u001b[39mf\u001b[39m\u001b[39m\"\u001b[39m\u001b[39mSkipping line \u001b[39m\u001b[39m{\u001b[39;00mrow_num\u001b[39m}\u001b[39;00m\u001b[39m: \u001b[39m\u001b[39m\"\u001b[39m\n",
      "\u001b[1;31mParserError\u001b[0m: Expected 6 fields in line 4, saw 7"
     ]
    }
   ],
   "source": [
    "columnNames = [\"track\", \"time\", \"note_is_played\"\n",
    "                            , \"channel\", \"notes\", \"velocity\"]\n",
    "\n",
    "df = pd.read_csv('midi/drumDemo.csv', skipfooter=2, skiprows=8, engine='python', names= columnNames)\n",
    "print(df.head())\n",
    "\n",
    "track = df[\"track\"].values\n",
    "time = df[\"time\"].values\n",
    "note_is_played = df[\"note_is_played\"].values\n",
    "channel = df[\"channel\"].values\n",
    "notes = df[\"notes\"].values\n",
    "velocity = df[\"velocity\"].values\n",
    "\n",
    "\"\"\"\n",
    "print(track)\n",
    "print(time)\n",
    "print(note_is_played)\n",
    "print(channel)\n",
    "print(notes)\n",
    "print(velocity)\n",
    "\"\"\"\n",
    "\n",
    "h = {}\n",
    "h[36] = 0\n",
    "h[38] = 1\n",
    "h[41] = 2\n",
    "h[42] = 3\n",
    "h[43] = 4\n",
    "h[45] = 5\n",
    "h[82] = 6\n",
    "\n",
    "h_inv = {}\n",
    "h_inv[0] = 36\n",
    "h_inv[1] = 38\n",
    "h_inv[2] = 41\n",
    "h_inv[3] = 42\n",
    "h_inv[4] = 43\n",
    "h_inv[5] = 45\n",
    "h_inv[6] = 82\n",
    "\n",
    "print()\n",
    "\n",
    "u = list(itertools.repeat(np.zeros(7), max(time)+1))\n",
    "\n",
    "for i in range(len(notes)):\n",
    "    v = [0]*7\n",
    "    v[h[notes[i]]] = velocity[i] / 127\n",
    "    if (np.any(u[time[i]])):        #If the current vector is not the zero vector\n",
    "        u[time[i]] = u[time[i]] + np.array(v)\n",
    "    else:\n",
    "        u[time[i]] = np.array(v)\n",
    "\n",
    "print(u[236])"
   ]
  },
  {
   "cell_type": "markdown",
   "metadata": {},
   "source": [
    "Backward preprocessing\n",
    "$$\n",
    "\\mathcal{D}^{-1} : \\mathbb{R}^7 \\rightarrow \\text{csv}\n",
    "$$"
   ]
  },
  {
   "cell_type": "code",
   "execution_count": null,
   "metadata": {},
   "outputs": [],
   "source": [
    "y = u\n",
    "dfo = pd.DataFrame([], columns=columnNames)\n",
    "\n",
    "time_new = []\n",
    "notes_new = []\n",
    "velocity_new = []\n",
    "\n",
    "\n",
    "for n in range(len(y)):\n",
    "    if (np.any(y[n])):\n",
    "        yn = y[n]\n",
    "        for i in range(len(yn)):\n",
    "            v = (int)(yn[i] * 127)\n",
    "            if (v > 0):\n",
    "                time_new.append(n)\n",
    "                velocity_new.append(v)\n",
    "                notes_new.append(h_inv[i])\n",
    "\n",
    "track_new = [track[0]]*len(time_new)\n",
    "note_is_played_new = [note_is_played[0]]*len(time_new)\n",
    "channel_new = [channel[0]]*len(time_new)\n",
    "\n",
    "dfo[\"track\"] = track_new\n",
    "dfo[\"note_is_played\"] = note_is_played_new\n",
    "dfo[\"channel\"] = channel_new\n",
    "dfo[\"time\"] = time_new\n",
    "dfo[\"velocity\"] = velocity_new\n",
    "dfo[\"notes\"] = notes_new\n",
    "\n",
    "latestTime = time_new[-1]\n",
    "\n",
    "# dictionary method?\n",
    "pre = [[0,0, \"Header\", 1, 2, 480],\n",
    "        [1, 0, \"Start_track\"],\n",
    "        [1, 0, \"Title_t\", \"\\\"from model\\\"\"],\n",
    "        [1, 0, \"End_track\"],\n",
    "        [2, 0, \"Start_track\"]]\n",
    "\n",
    "fil = []\n",
    "\n",
    "post = [[2, latestTime, \"End_track\"],\n",
    "        [0, 0, \"End_of_file\"]]\n",
    "\n",
    "dfend = pd.DataFrame(post)\n",
    "dfend.head()\n",
    "\n",
    "dfo.to_csv(\"new.csv\", index = False, header = True)\n",
    "\n"
   ]
  }
 ],
 "metadata": {
  "interpreter": {
   "hash": "e375b77a672b76be28c1e80386a6d4db61c866c142c6acff7bc94a65b4573147"
  },
  "kernelspec": {
   "display_name": "Python 3.9.12 ('base')",
   "language": "python",
   "name": "python3"
  },
  "language_info": {
   "codemirror_mode": {
    "name": "ipython",
    "version": 3
   },
   "file_extension": ".py",
   "mimetype": "text/x-python",
   "name": "python",
   "nbconvert_exporter": "python",
   "pygments_lexer": "ipython3",
   "version": "3.9.12"
  },
  "orig_nbformat": 4
 },
 "nbformat": 4,
 "nbformat_minor": 2
}

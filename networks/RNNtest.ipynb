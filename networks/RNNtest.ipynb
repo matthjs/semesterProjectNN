{
 "cells": [
  {
   "cell_type": "markdown",
   "metadata": {},
   "source": [
    "# (Simple) RNN in Jax"
   ]
  },
  {
   "cell_type": "code",
   "execution_count": 32,
   "metadata": {},
   "outputs": [],
   "source": [
    "import jax\n",
    "import jax.numpy as np\n",
    "import math\n",
    "import numpy as onp\n",
    "import tensorflow as tf\n",
    "import time\n",
    "import matplotlib.pyplot as plt"
   ]
  },
  {
   "cell_type": "code",
   "execution_count": 33,
   "metadata": {},
   "outputs": [],
   "source": [
    "key = jax.random.PRNGKey(1)"
   ]
  },
  {
   "cell_type": "markdown",
   "metadata": {},
   "source": [
    "## Data loading"
   ]
  },
  {
   "cell_type": "markdown",
   "metadata": {},
   "source": [
    "tbc"
   ]
  },
  {
   "cell_type": "markdown",
   "metadata": {},
   "source": [
    "# Network Architecture"
   ]
  },
  {
   "cell_type": "markdown",
   "metadata": {},
   "source": [
    "A RNN (with no LSTM units) is a neural network with recurrent connections (dynamical system)\n",
    "$$\n",
    "\\begin{array}{l l}\n",
    "\\pmb{x}(n+1) = \\sigma(W\\pmb{x}(n) + W^{in}\\pmb{u}(n+1) + \\pmb{b}) \\\\\n",
    "\\pmb{y}(n) = f(W^{out} \\pmb{x}(n))\n",
    "\\end{array}\n",
    "$$\n",
    "Describes how the network activation state is updated and how output signal is generated. \n",
    "\n",
    "Input vector $\\pmb{u}(n) \\in \\mathbb{R}^K$\n",
    "\n",
    "Activation/state vector $\\pmb{x}(n) \\in \\mathbb{R}^L$\n",
    "\n",
    "Output vector $\\pmb{y}(n) \\in \\mathbb{R}^M$\n",
    "\n",
    "Bias vector $\\pmb{b} \\in \\mathbb{R}^L$\n",
    "\n",
    "$W^{in} \\in \\mathbb{R}^{L \\times K}, W \\in \\mathbb{R}^{L \\times L}, W^{out} \\in \\mathbb{R}^{M \\times L}$ are weight matrices charecterizing the connections between neurons in the layers\n"
   ]
  },
  {
   "cell_type": "markdown",
   "metadata": {},
   "source": [
    "## Initialization\n",
    "At time $n = 0$ the recurrent network state $\\mathbf{x}(0)$ is often set to the zero vector $\\mathbf{x}(0) = \\mathbf{0}$"
   ]
  },
  {
   "cell_type": "code",
   "execution_count": 34,
   "metadata": {},
   "outputs": [
    {
     "name": "stdout",
     "output_type": "stream",
     "text": [
      "[-0.11617039  2.2125063 ]\n",
      "[[-0.11617039]\n",
      " [ 2.2125063 ]]\n"
     ]
    }
   ],
   "source": [
    "print(jax.random.normal(key, (2,)))\n",
    "print(jax.random.normal(key, (2,1)))"
   ]
  },
  {
   "cell_type": "code",
   "execution_count": 35,
   "metadata": {},
   "outputs": [],
   "source": [
    "def init_weight_matrix(in_dim, out_dim, key, scale=1e-2):\n",
    "    w = jax.random.normal(key, (out_dim, in_dim))\n",
    "    return scale*w"
   ]
  },
  {
   "cell_type": "code",
   "execution_count": 36,
   "metadata": {},
   "outputs": [],
   "source": [
    "def init_bias(dim, key, scale=1e-2):\n",
    "    b = jax.random.normal(key, (dim, ))\n",
    "    return scale*b"
   ]
  },
  {
   "cell_type": "code",
   "execution_count": 37,
   "metadata": {},
   "outputs": [],
   "source": [
    "# state, params = (W^{in}, W, W^{out}, b)\n",
    "# sizes = (input dim, state dim, output dim.)\n",
    "def init_network(sizes, key):\n",
    "    keys = jax.random.split(key, len(sizes))\n",
    "    params = {} # hasmap\n",
    "    x = np.zeros(sizes[1])\n",
    "    \n",
    "    params[\"input matrix\"] = init_weight_matrix(sizes[0], sizes[1], keys[0])\n",
    "    params[\"state matrix\"] = init_weight_matrix(sizes[1], sizes[1], keys[1])\n",
    "    params[\"bias vector\"] = init_bias(sizes[1], keys[2])\n",
    "    params[\"output matrix\"] = init_weight_matrix(sizes[1], sizes[2], keys[3])\n",
    "\n",
    "    return x, params\n"
   ]
  },
  {
   "cell_type": "code",
   "execution_count": 38,
   "metadata": {},
   "outputs": [
    {
     "name": "stdout",
     "output_type": "stream",
     "text": [
      "{'bias vector': (5,), 'input matrix': (5, 3), 'output matrix': (10, 5), 'state matrix': (5, 5)}\n"
     ]
    }
   ],
   "source": [
    "sizes = [3, 5, 3]\n",
    "x, params = init_network(sizes, key)\n",
    "print(jax.tree_map(lambda x: x.shape, params)) # printing shape of network\n"
   ]
  },
  {
   "cell_type": "code",
   "execution_count": 39,
   "metadata": {},
   "outputs": [],
   "source": [
    "# params = weights and bias\n",
    "# u = input signal at time n\n",
    "# x = state vector : returns state at time n\n",
    "# b = bias vector\n",
    "# n = time\n",
    "\n",
    "def nextState(x, params, u):\n",
    "    w_in = params[\"input matrix\"]\n",
    "    w = params[\"state matrix\"]\n",
    "    b = params[\"bias vector\"]\n",
    "    x = jax.nn.relu(np.dot(w, x) + np.dot(w_in, u) + b)\n",
    "    return x"
   ]
  },
  {
   "cell_type": "code",
   "execution_count": 40,
   "metadata": {},
   "outputs": [],
   "source": [
    "def readOut(x, params):\n",
    "    # here we just use the identity function for now\n",
    "    w_out = params[\"output matrix\"]\n",
    "    y = np.dot(w_out, x)\n",
    "    return y"
   ]
  },
  {
   "cell_type": "code",
   "execution_count": 41,
   "metadata": {},
   "outputs": [
    {
     "name": "stdout",
     "output_type": "stream",
     "text": [
      "[[-0.09380784 -1.8266813   1.2070532 ]\n",
      " [-1.3838278  -1.7946863   0.739586  ]\n",
      " [-0.4072965  -0.5142992   0.7693824 ]\n",
      " [ 1.7207135   0.8223581  -0.06358211]\n",
      " [ 1.0225011   0.4435419   0.8082118 ]\n",
      " [ 0.03334755  0.4504489   1.4941233 ]\n",
      " [-0.03919963  0.28523797  0.5016509 ]\n",
      " [ 0.1117193   0.5748015   1.949763  ]\n",
      " [-0.8118261  -0.33672643 -1.1827446 ]\n",
      " [-0.59318626  0.01991192 -0.7724237 ]\n",
      " [ 0.11230356  0.4132285   0.29627615]\n",
      " [-0.9084105   0.11455189 -0.80134195]\n",
      " [-0.7631346  -0.76251495 -0.926171  ]\n",
      " [ 1.9448895   0.7570497  -1.677625  ]\n",
      " [-0.04892532 -0.430676   -0.9932122 ]\n",
      " [-0.7845826  -0.3665046  -0.5999799 ]\n",
      " [ 1.1914481  -1.7223476  -0.12748261]\n",
      " [ 0.96800166  0.2489037   0.7475761 ]\n",
      " [ 0.9835043  -0.17859596 -0.04589614]\n",
      " [-0.2840927  -1.3884628   1.5984961 ]]\n",
      "at time\n",
      "0\n",
      "[-5.8886588e-05  2.4645540e-04 -3.7043955e-04 -2.4138135e-04\n",
      " -4.8458238e-05 -2.5399908e-04  3.0565402e-04  2.2559115e-04\n",
      " -3.6294572e-04  1.3628873e-04]\n",
      "at time\n",
      "1\n",
      "[-9.22519466e-05  2.28241232e-04 -3.42467072e-04 -7.88502075e-05\n",
      "  2.21737457e-04 -3.11569602e-04  3.54300515e-04  7.05238141e-04\n",
      " -3.54250602e-04 -1.01533675e-04]\n",
      "at time\n",
      "2\n",
      "[-5.3575863e-05  1.8686982e-04 -2.8106573e-04 -1.4887468e-04\n",
      "  2.6930233e-05 -2.1105642e-04  2.4920938e-04  2.8953725e-04\n",
      " -2.7986526e-04  4.9412829e-05]\n",
      "at time\n",
      "3\n",
      "[-6.2955049e-04 -3.2543734e-04 -6.7326275e-04 -1.1716327e-03\n",
      " -8.9650683e-05  4.9101503e-04  4.3459173e-04  1.5965002e-04\n",
      " -9.5531216e-04 -3.3358129e-04]\n",
      "at time\n",
      "4\n",
      "[-1.4050680e-04  2.3111312e-04 -4.1302884e-04 -4.9523648e-04\n",
      " -1.7665952e-04 -1.6922713e-04  3.4807672e-04  9.2449991e-05\n",
      " -3.8357961e-04  1.2084064e-04]\n",
      "at time\n",
      "5\n",
      "[-4.9137943e-05  2.2416394e-04 -3.3684107e-04 -2.3646707e-04\n",
      " -7.5621356e-05 -2.2187612e-04  2.6936099e-04  1.4648332e-04\n",
      " -3.2780468e-04  1.5067848e-04]\n",
      "at time\n",
      "6\n",
      "[-5.9830010e-05  1.2827075e-04 -2.1475949e-04 -2.1294045e-04\n",
      " -6.4289343e-05 -1.1053558e-04  1.8093745e-04  8.6522581e-05\n",
      " -2.0370149e-04  6.4544249e-05]\n",
      "at time\n",
      "7\n",
      "[-5.8167541e-05  2.6803007e-04 -4.0274445e-04 -2.8498290e-04\n",
      " -9.4600247e-05 -2.6408205e-04  3.2092567e-04  1.6736850e-04\n",
      " -3.9164547e-04  1.8370514e-04]\n",
      "at time\n",
      "8\n",
      "[-2.1670481e-04  9.1042402e-06 -1.9508979e-04 -3.3312556e-04\n",
      "  2.3085078e-05  5.7644058e-05  1.7981646e-04  2.8449541e-04\n",
      " -2.1981908e-04 -2.2877941e-04]\n",
      "at time\n",
      "9\n",
      "[-1.9159263e-04  1.4921463e-05 -1.6479661e-04 -3.7406539e-04\n",
      " -1.7482453e-06  3.6819954e-05  2.0169947e-04  2.3808680e-04\n",
      " -1.5274731e-04 -1.8896343e-04]\n",
      "at time\n",
      "10\n",
      "[-1.27541411e-04  1.00218575e-04 -2.24875301e-04 -3.73465533e-04\n",
      " -1.15348303e-04 -4.06727195e-05  2.08010504e-04  5.49093602e-05\n",
      " -2.00215669e-04  3.15334910e-06]\n",
      "at time\n",
      "11\n",
      "[-2.0656509e-04  6.6339358e-05 -2.1721845e-04 -3.9318565e-04\n",
      "  3.2849304e-05 -2.6753201e-05  2.6800286e-04  3.6844396e-04\n",
      " -1.9499470e-04 -2.1207945e-04]\n",
      "at time\n",
      "12\n",
      "[-5.2306397e-05  1.0871631e-04 -1.2144951e-04 -8.8961315e-06\n",
      "  6.9115493e-05 -1.0612099e-04  1.0339375e-04  2.7705665e-04\n",
      " -1.2282068e-04 -8.1872808e-05]\n",
      "at time\n",
      "13\n",
      "[-0.00114737 -0.00109644 -0.00081327 -0.00174477  0.00010069  0.00135205\n",
      "  0.00038281  0.00020015 -0.00149267 -0.00091742]\n",
      "at time\n",
      "14\n",
      "[-2.2481353e-04 -2.0633485e-04 -1.3682042e-04 -3.4933488e-04\n",
      "  9.3174822e-06  2.6466444e-04  7.0172100e-05  3.5736859e-05\n",
      " -2.5172316e-04 -1.9438456e-04]\n",
      "at time\n",
      "15\n",
      "[-6.5520013e-05  8.1565988e-05 -1.4237405e-04 -7.9079400e-05\n",
      "  9.4484887e-05 -1.0701515e-04  1.6014592e-04  3.1717023e-04\n",
      " -1.4378929e-04 -8.3279316e-05]\n",
      "at time\n",
      "16\n",
      "[-9.2329145e-05  1.0099124e-04 -3.7048376e-04 -2.6492562e-04\n",
      " -6.0072260e-05 -9.6518321e-05  2.3166781e-04  7.3281321e-05\n",
      " -4.4755530e-04  1.4015555e-04]\n",
      "at time\n",
      "17\n",
      "[-1.00745085e-04  2.33057639e-04 -3.88370099e-04 -4.01849014e-04\n",
      " -1.54332520e-04 -1.90756298e-04  3.15925456e-04  8.41187357e-05\n",
      " -3.65980988e-04  1.52127453e-04]\n",
      "at time\n",
      "18\n",
      "[-2.2069429e-04 -2.5644542e-05 -3.8084315e-04 -4.6859062e-04\n",
      " -6.2823281e-05  7.5661876e-05  2.4693966e-04  8.3036859e-05\n",
      " -4.9146212e-04 -1.5455822e-05]\n",
      "at time\n",
      "19\n",
      "[-7.1735209e-05  2.7754315e-04 -4.1728042e-04 -2.5109199e-04\n",
      " -1.5904006e-05 -2.9725273e-04  3.5480800e-04  3.2600126e-04\n",
      " -4.1156285e-04  1.2073270e-04]\n"
     ]
    }
   ],
   "source": [
    "u = jax.random.normal(jax.random.PRNGKey(2), shape=(20, 3))\n",
    "print(u)\n",
    "for n in range(len(u)):\n",
    "    print(\"at time\")\n",
    "    print(n)\n",
    "    x = nextState(x, params, u[n])\n",
    "    print(readOut(x, params))\n"
   ]
  }
 ],
 "metadata": {
  "interpreter": {
   "hash": "e375b77a672b76be28c1e80386a6d4db61c866c142c6acff7bc94a65b4573147"
  },
  "kernelspec": {
   "display_name": "Python 3.9.12 ('base')",
   "language": "python",
   "name": "python3"
  },
  "language_info": {
   "codemirror_mode": {
    "name": "ipython",
    "version": 3
   },
   "file_extension": ".py",
   "mimetype": "text/x-python",
   "name": "python",
   "nbconvert_exporter": "python",
   "pygments_lexer": "ipython3",
   "version": "3.9.12"
  },
  "orig_nbformat": 4
 },
 "nbformat": 4,
 "nbformat_minor": 2
}
